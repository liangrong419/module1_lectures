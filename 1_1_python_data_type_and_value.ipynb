{
  "nbformat": 4,
  "nbformat_minor": 0,
  "metadata": {
    "anaconda-cloud": {},
    "kernelspec": {
      "display_name": "Python 3",
      "language": "python",
      "name": "python3"
    },
    "language_info": {
      "codemirror_mode": {
        "name": "ipython",
        "version": 3
      },
      "file_extension": ".py",
      "mimetype": "text/x-python",
      "name": "python",
      "nbconvert_exporter": "python",
      "pygments_lexer": "ipython3",
      "version": "3.7.0"
    },
    "colab": {
      "name": "1_1_python_data_type_and_value.ipynb",
      "provenance": []
    }
  },
  "cells": [
    {
      "cell_type": "markdown",
      "metadata": {
        "id": "TXpVZtX3oP4H",
        "colab_type": "text"
      },
      "source": [
        "## Python data\n",
        "\n",
        "* All data have a *type* and *value*\n",
        "    * *type* is based off the underlying class\n",
        "    * *value* is returned by the Python interpreter\n",
        "* We can use the `type` function to discover data classes/types"
      ]
    },
    {
      "cell_type": "markdown",
      "metadata": {
        "id": "sOfpz-ogoP4J",
        "colab_type": "text"
      },
      "source": [
        "#### Value of `\"Hello World\"`"
      ]
    },
    {
      "cell_type": "code",
      "metadata": {
        "id": "vPVCdjxYoP4K",
        "colab_type": "code",
        "colab": {},
        "outputId": "dd633460-a5d6-47d2-e098-11b054263f14"
      },
      "source": [
        "\"Hello World\""
      ],
      "execution_count": null,
      "outputs": [
        {
          "output_type": "execute_result",
          "data": {
            "text/plain": [
              "'Hello World'"
            ]
          },
          "metadata": {
            "tags": []
          },
          "execution_count": 13
        }
      ]
    },
    {
      "cell_type": "markdown",
      "metadata": {
        "id": "bA_R2EDFoP4P",
        "colab_type": "text"
      },
      "source": [
        "#### Type of `\"Hello World\"`"
      ]
    },
    {
      "cell_type": "code",
      "metadata": {
        "id": "YDqoqYNMoP4Q",
        "colab_type": "code",
        "colab": {},
        "outputId": "fc64b2a3-1bf5-4332-ae27-c0884d5b1b5c"
      },
      "source": [
        "type(\"Hello World\")"
      ],
      "execution_count": null,
      "outputs": [
        {
          "output_type": "execute_result",
          "data": {
            "text/plain": [
              "str"
            ]
          },
          "metadata": {
            "tags": []
          },
          "execution_count": 14
        }
      ]
    },
    {
      "cell_type": "code",
      "metadata": {
        "id": "aUBOo_h6oP4T",
        "colab_type": "code",
        "colab": {},
        "outputId": "29e3a95e-6c2a-4f23-b1f2-07d5e1581d6c"
      },
      "source": [
        "2.5"
      ],
      "execution_count": null,
      "outputs": [
        {
          "output_type": "execute_result",
          "data": {
            "text/plain": [
              "2.5"
            ]
          },
          "metadata": {
            "tags": []
          },
          "execution_count": 26
        }
      ]
    },
    {
      "cell_type": "code",
      "metadata": {
        "id": "4tM1Q12XoP4Y",
        "colab_type": "code",
        "colab": {},
        "outputId": "87a463cb-5689-4eda-dc46-4247f951ace0"
      },
      "source": [
        "type(2.5)"
      ],
      "execution_count": null,
      "outputs": [
        {
          "output_type": "execute_result",
          "data": {
            "text/plain": [
              "float"
            ]
          },
          "metadata": {
            "tags": []
          },
          "execution_count": 27
        }
      ]
    },
    {
      "cell_type": "code",
      "metadata": {
        "scrolled": true,
        "id": "e87YLNrJoP4b",
        "colab_type": "code",
        "colab": {},
        "outputId": "e0d2101d-1aff-4f20-f74b-fa4f152acfe8"
      },
      "source": [
        "17"
      ],
      "execution_count": null,
      "outputs": [
        {
          "output_type": "execute_result",
          "data": {
            "text/plain": [
              "17"
            ]
          },
          "metadata": {
            "tags": []
          },
          "execution_count": 28
        }
      ]
    },
    {
      "cell_type": "code",
      "metadata": {
        "scrolled": false,
        "id": "vVwv_lVvoP4f",
        "colab_type": "code",
        "colab": {},
        "outputId": "4c49cdc3-4eec-433c-b71f-9f169b3b7da9"
      },
      "source": [
        "type(17)"
      ],
      "execution_count": null,
      "outputs": [
        {
          "output_type": "execute_result",
          "data": {
            "text/plain": [
              "int"
            ]
          },
          "metadata": {
            "tags": []
          },
          "execution_count": 29
        }
      ]
    },
    {
      "cell_type": "code",
      "metadata": {
        "scrolled": true,
        "id": "Hq_iAahhoP4k",
        "colab_type": "code",
        "colab": {},
        "outputId": "4be2aaed-f4cc-4bcc-d870-96ce96e50c2f"
      },
      "source": [
        "17.0"
      ],
      "execution_count": null,
      "outputs": [
        {
          "output_type": "execute_result",
          "data": {
            "text/plain": [
              "17.0"
            ]
          },
          "metadata": {
            "tags": []
          },
          "execution_count": 30
        }
      ]
    },
    {
      "cell_type": "markdown",
      "metadata": {
        "id": "QKyH_P0poP4u",
        "colab_type": "text"
      },
      "source": [
        "<font color=\"red\"> <h2> Exercise </h2></font>\n",
        "\n",
        "Investivate the type and value of the following\n",
        "\n",
        "* 2 + 17\n",
        "* 2 + 17.0"
      ]
    },
    {
      "cell_type": "code",
      "metadata": {
        "scrolled": false,
        "id": "IVmn6W_CoP4u",
        "colab_type": "code",
        "colab": {
          "base_uri": "https://localhost:8080/",
          "height": 34
        },
        "outputId": "5933d6d5-fa8d-434b-e67a-d9a1a98ec273"
      },
      "source": [
        "2+17"
      ],
      "execution_count": 1,
      "outputs": [
        {
          "output_type": "execute_result",
          "data": {
            "text/plain": [
              "19"
            ]
          },
          "metadata": {
            "tags": []
          },
          "execution_count": 1
        }
      ]
    },
    {
      "cell_type": "code",
      "metadata": {
        "id": "I0dSHRGro9EZ",
        "colab_type": "code",
        "colab": {
          "base_uri": "https://localhost:8080/",
          "height": 34
        },
        "outputId": "5a5b438a-89cb-49f2-d282-f8c64f7eb2b6"
      },
      "source": [
        "type(2+17)"
      ],
      "execution_count": 2,
      "outputs": [
        {
          "output_type": "execute_result",
          "data": {
            "text/plain": [
              "int"
            ]
          },
          "metadata": {
            "tags": []
          },
          "execution_count": 2
        }
      ]
    },
    {
      "cell_type": "code",
      "metadata": {
        "id": "JKbf0_lypAbM",
        "colab_type": "code",
        "colab": {
          "base_uri": "https://localhost:8080/",
          "height": 34
        },
        "outputId": "980a9d61-6ba9-4c05-c12f-1d2b3fcc7a0a"
      },
      "source": [
        "2+17.0"
      ],
      "execution_count": 3,
      "outputs": [
        {
          "output_type": "execute_result",
          "data": {
            "text/plain": [
              "19.0"
            ]
          },
          "metadata": {
            "tags": []
          },
          "execution_count": 3
        }
      ]
    },
    {
      "cell_type": "code",
      "metadata": {
        "id": "bJJE7q2ApDXB",
        "colab_type": "code",
        "colab": {
          "base_uri": "https://localhost:8080/",
          "height": 34
        },
        "outputId": "7b50de2d-73ce-49d8-8143-e295707ba76d"
      },
      "source": [
        "type(2+17.0)"
      ],
      "execution_count": 4,
      "outputs": [
        {
          "output_type": "execute_result",
          "data": {
            "text/plain": [
              "float"
            ]
          },
          "metadata": {
            "tags": []
          },
          "execution_count": 4
        }
      ]
    },
    {
      "cell_type": "markdown",
      "metadata": {
        "id": "pR3SOcqFoP4z",
        "colab_type": "text"
      },
      "source": [
        "## Other basic types\n",
        "\n",
        "* Boolean\n",
        "* None"
      ]
    },
    {
      "cell_type": "code",
      "metadata": {
        "id": "9srTYuydoP40",
        "colab_type": "code",
        "colab": {},
        "outputId": "31ffb91f-e9b7-471c-da98-636b1c8e0bb9"
      },
      "source": [
        "True"
      ],
      "execution_count": null,
      "outputs": [
        {
          "output_type": "execute_result",
          "data": {
            "text/plain": [
              "True"
            ]
          },
          "metadata": {
            "tags": []
          },
          "execution_count": 36
        }
      ]
    },
    {
      "cell_type": "code",
      "metadata": {
        "id": "sKYFF5wgoP45",
        "colab_type": "code",
        "colab": {},
        "outputId": "8729f7c4-7e58-47ca-a0db-7c5d45e2fec1"
      },
      "source": [
        "type(True)"
      ],
      "execution_count": null,
      "outputs": [
        {
          "output_type": "execute_result",
          "data": {
            "text/plain": [
              "bool"
            ]
          },
          "metadata": {
            "tags": []
          },
          "execution_count": 37
        }
      ]
    },
    {
      "cell_type": "code",
      "metadata": {
        "id": "yDUreyAFoP49",
        "colab_type": "code",
        "colab": {},
        "outputId": "1d028134-c645-4f6e-c006-d1b6b9a6c2c1"
      },
      "source": [
        "False"
      ],
      "execution_count": null,
      "outputs": [
        {
          "output_type": "execute_result",
          "data": {
            "text/plain": [
              "False"
            ]
          },
          "metadata": {
            "tags": []
          },
          "execution_count": 38
        }
      ]
    },
    {
      "cell_type": "code",
      "metadata": {
        "id": "u1XpYZLUoP5D",
        "colab_type": "code",
        "colab": {},
        "outputId": "97b6de56-a3a3-43b9-da30-55f8ee2a68ea"
      },
      "source": [
        "type(False)"
      ],
      "execution_count": null,
      "outputs": [
        {
          "output_type": "execute_result",
          "data": {
            "text/plain": [
              "bool"
            ]
          },
          "metadata": {
            "tags": []
          },
          "execution_count": 39
        }
      ]
    },
    {
      "cell_type": "code",
      "metadata": {
        "id": "zXEE-sxLoP5M",
        "colab_type": "code",
        "colab": {}
      },
      "source": [
        "None"
      ],
      "execution_count": null,
      "outputs": []
    },
    {
      "cell_type": "code",
      "metadata": {
        "id": "tO5mJ5DPoP5Q",
        "colab_type": "code",
        "colab": {},
        "outputId": "3fb63b41-cd56-44d1-e508-c31e8d953b3b"
      },
      "source": [
        "type(None)"
      ],
      "execution_count": null,
      "outputs": [
        {
          "output_type": "execute_result",
          "data": {
            "text/plain": [
              "NoneType"
            ]
          },
          "metadata": {
            "tags": []
          },
          "execution_count": 41
        }
      ]
    },
    {
      "cell_type": "markdown",
      "metadata": {
        "id": "WGxVqLV9oP5T",
        "colab_type": "text"
      },
      "source": [
        "## Collection types\n",
        "\n",
        "* Python comes with nice collection types\n",
        "   "
      ]
    },
    {
      "cell_type": "code",
      "metadata": {
        "id": "mFArNOXmoP5T",
        "colab_type": "code",
        "colab": {},
        "outputId": "420598b2-dd88-4b08-924c-139b5d0333e4"
      },
      "source": [
        "[1,2,3] # Mutatable sequence"
      ],
      "execution_count": null,
      "outputs": [
        {
          "output_type": "execute_result",
          "data": {
            "text/plain": [
              "[1, 2, 3]"
            ]
          },
          "metadata": {
            "tags": []
          },
          "execution_count": 42
        }
      ]
    },
    {
      "cell_type": "code",
      "metadata": {
        "id": "yQCugyiloP5a",
        "colab_type": "code",
        "colab": {},
        "outputId": "d5adebb4-2e1b-481f-a905-5b1609004d35"
      },
      "source": [
        "type([1,2,3]) # Mutatable sequence"
      ],
      "execution_count": null,
      "outputs": [
        {
          "output_type": "execute_result",
          "data": {
            "text/plain": [
              "list"
            ]
          },
          "metadata": {
            "tags": []
          },
          "execution_count": 43
        }
      ]
    },
    {
      "cell_type": "code",
      "metadata": {
        "id": "WMkkjgT4oP5f",
        "colab_type": "code",
        "colab": {},
        "outputId": "00fd34d4-7f9b-4302-924b-c8af6a299249"
      },
      "source": [
        "(1,2,3) # Immutable sequence"
      ],
      "execution_count": null,
      "outputs": [
        {
          "output_type": "execute_result",
          "data": {
            "text/plain": [
              "(1, 2, 3)"
            ]
          },
          "metadata": {
            "tags": []
          },
          "execution_count": 44
        }
      ]
    },
    {
      "cell_type": "code",
      "metadata": {
        "id": "nrW5dEoQoP5k",
        "colab_type": "code",
        "colab": {},
        "outputId": "d1acb287-ba62-41d2-ca48-68f6a1020e3a"
      },
      "source": [
        "type((1,2,3)) # Immutable sequence"
      ],
      "execution_count": null,
      "outputs": [
        {
          "output_type": "execute_result",
          "data": {
            "text/plain": [
              "tuple"
            ]
          },
          "metadata": {
            "tags": []
          },
          "execution_count": 45
        }
      ]
    },
    {
      "cell_type": "code",
      "metadata": {
        "id": "fHzbhZGzoP5n",
        "colab_type": "code",
        "colab": {},
        "outputId": "d4ba6d23-2640-42c6-d73f-f7a0cc78e9b0"
      },
      "source": [
        "{\"one\":1, \"two\":2, \"three\":3} # Associative map"
      ],
      "execution_count": null,
      "outputs": [
        {
          "output_type": "execute_result",
          "data": {
            "text/plain": [
              "{'one': 1, 'two': 2, 'three': 3}"
            ]
          },
          "metadata": {
            "tags": []
          },
          "execution_count": 46
        }
      ]
    },
    {
      "cell_type": "code",
      "metadata": {
        "id": "c0cckWvsoP5u",
        "colab_type": "code",
        "colab": {},
        "outputId": "b876ca04-3550-4deb-fb0c-81e2337a2099"
      },
      "source": [
        "type({\"one\":1, \"two\":2, \"three\":3}) # Associative map"
      ],
      "execution_count": null,
      "outputs": [
        {
          "output_type": "execute_result",
          "data": {
            "text/plain": [
              "dict"
            ]
          },
          "metadata": {
            "tags": []
          },
          "execution_count": 47
        }
      ]
    },
    {
      "cell_type": "code",
      "metadata": {
        "id": "a6UioR6IoP5x",
        "colab_type": "code",
        "colab": {},
        "outputId": "1a40c543-1707-48a5-e469-c60f19413c62"
      },
      "source": [
        "{1,2,3} # Unordered collection with unique entries"
      ],
      "execution_count": null,
      "outputs": [
        {
          "output_type": "execute_result",
          "data": {
            "text/plain": [
              "{1, 2, 3}"
            ]
          },
          "metadata": {
            "tags": []
          },
          "execution_count": 48
        }
      ]
    },
    {
      "cell_type": "code",
      "metadata": {
        "id": "4F5EmIQKoP5z",
        "colab_type": "code",
        "colab": {},
        "outputId": "3638baa8-1e47-4a9b-b013-cd9cc3ad19b6"
      },
      "source": [
        "type({1,2,3}) # Unordered collection with unique entries"
      ],
      "execution_count": null,
      "outputs": [
        {
          "output_type": "execute_result",
          "data": {
            "text/plain": [
              "set"
            ]
          },
          "metadata": {
            "tags": []
          },
          "execution_count": 49
        }
      ]
    }
  ]
}